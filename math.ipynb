{
  "nbformat": 4,
  "nbformat_minor": 0,
  "metadata": {
    "colab": {
      "name": "P16-Rabu-(06-04-2022)-math.ipynb",
      "provenance": []
    },
    "kernelspec": {
      "name": "python3",
      "display_name": "Python 3"
    },
    "language_info": {
      "name": "python"
    }
  },
  "cells": [
    {
      "cell_type": "markdown",
      "source": [
        "---\n",
        "\n",
        "## **math**\n",
        "\n",
        "---\n",
        "\n",
        "* ### This module provides access to the mathematical functions defined by the C standard.\n",
        "\n",
        "* ### These functions cannot be used with complex numbers; use the functions of the same name from the cmath module if you require support for complex numbers. The distinction between functions which support complex numbers and those which don’t is made since most users do not want to learn quite as much mathematics as required to understand complex numbers. Receiving an exception instead of a complex result allows earlier detection of the unexpected complex number used as a parameter, so that the programmer can determine how and why it was generated in the first place."
      ],
      "metadata": {
        "id": "nW8t8Ydg5qxp"
      }
    },
    {
      "cell_type": "markdown",
      "source": [
        "\n",
        "\n",
        "---\n",
        "\n",
        "## math.pi\n",
        "\n",
        "---\n",
        "\n",
        "### Calling The mathematical constant π = 3.141592…, to available precision."
      ],
      "metadata": {
        "id": "GAig1BrY_q8V"
      }
    },
    {
      "cell_type": "code",
      "source": [
        "# Import math library\n",
        "\n",
        "import math"
      ],
      "metadata": {
        "id": "0y72KYym5shq"
      },
      "execution_count": null,
      "outputs": []
    },
    {
      "cell_type": "code",
      "source": [
        "# Assign math.pi as variable pi\n",
        "\n",
        "pi = math.pi"
      ],
      "metadata": {
        "id": "iuoAkdUF51A2"
      },
      "execution_count": null,
      "outputs": []
    },
    {
      "cell_type": "code",
      "execution_count": null,
      "metadata": {
        "colab": {
          "base_uri": "https://localhost:8080/"
        },
        "id": "pkiQ4g335kkt",
        "outputId": "ff2e1f29-4f43-407a-bb14-66ddf957238b"
      },
      "outputs": [
        {
          "output_type": "execute_result",
          "data": {
            "text/plain": [
              "3.141592653589793"
            ]
          },
          "metadata": {},
          "execution_count": 3
        }
      ],
      "source": [
        "# Calling the value of the pi variable\n",
        "\n",
        "pi"
      ]
    },
    {
      "cell_type": "markdown",
      "source": [
        "\n",
        "\n",
        "---\n",
        "\n",
        "## math.ceil(x)\n",
        "\n",
        "---\n",
        "\n",
        "### Return the ceiling of x, the smallest integer greater than or equal to x. If x is not a float, delegates to x.__ceil__, which should return an Integral value."
      ],
      "metadata": {
        "id": "CtbF8D3fBuXC"
      }
    },
    {
      "cell_type": "code",
      "source": [
        "# Assign math.ceil(pi) (to upper bound the value of pi) to a variable upperBound\n",
        "\n",
        "upperBound = math.ceil(pi)"
      ],
      "metadata": {
        "id": "C2vhVQIM57gH"
      },
      "execution_count": null,
      "outputs": []
    },
    {
      "cell_type": "code",
      "source": [
        "# Calling the value of the upperBound variable\n",
        "\n",
        "upperBound"
      ],
      "metadata": {
        "colab": {
          "base_uri": "https://localhost:8080/"
        },
        "id": "NvSJqr3g6D5o",
        "outputId": "b3cdb96b-1ae1-4151-d8e0-8c468ec57af9"
      },
      "execution_count": null,
      "outputs": [
        {
          "output_type": "execute_result",
          "data": {
            "text/plain": [
              "4"
            ]
          },
          "metadata": {},
          "execution_count": 7
        }
      ]
    },
    {
      "cell_type": "code",
      "source": [
        "# Upper bound the float 9.99 using math.ceil(9.99)\n",
        "\n",
        "math.ceil(9.99)"
      ],
      "metadata": {
        "colab": {
          "base_uri": "https://localhost:8080/"
        },
        "id": "9Fr8Toxq6xTQ",
        "outputId": "f6effae1-7735-4f88-bfe2-dd77c27e6e45"
      },
      "execution_count": null,
      "outputs": [
        {
          "output_type": "execute_result",
          "data": {
            "text/plain": [
              "10"
            ]
          },
          "metadata": {},
          "execution_count": 13
        }
      ]
    },
    {
      "cell_type": "markdown",
      "source": [
        "\n",
        "\n",
        "---\n",
        "\n",
        "## math.floor(x)\n",
        "\n",
        "---\n",
        "\n",
        "### Return the floor of x, the largest integer less than or equal to x. If x is not a float, delegates to x.__floor__, which should return an Integral value."
      ],
      "metadata": {
        "id": "D49OXBScCSzy"
      }
    },
    {
      "cell_type": "code",
      "source": [
        "# Assign math.floor(pi) (to lower bound the value of pi) to a variable lowerBound\n",
        "\n",
        "lowerBound = math.floor(pi)"
      ],
      "metadata": {
        "id": "EbyxdbgG6GQq"
      },
      "execution_count": null,
      "outputs": []
    },
    {
      "cell_type": "code",
      "source": [
        "# Calling the value of the lowerBound variable\n",
        "\n",
        "lowerBound"
      ],
      "metadata": {
        "colab": {
          "base_uri": "https://localhost:8080/"
        },
        "id": "0mv5RRwx6KPo",
        "outputId": "de427220-c4ca-4f21-849c-b14976529838"
      },
      "execution_count": null,
      "outputs": [
        {
          "output_type": "execute_result",
          "data": {
            "text/plain": [
              "3"
            ]
          },
          "metadata": {},
          "execution_count": 9
        }
      ]
    },
    {
      "cell_type": "code",
      "source": [
        "# lower bound the float 9.99 using math.floor(9.99)\n",
        "\n",
        "math.floor(9.99)"
      ],
      "metadata": {
        "colab": {
          "base_uri": "https://localhost:8080/"
        },
        "id": "Thnr4RVU65_R",
        "outputId": "3e5e1f10-ea77-48bf-8b26-7ebf313f837d"
      },
      "execution_count": null,
      "outputs": [
        {
          "output_type": "execute_result",
          "data": {
            "text/plain": [
              "9"
            ]
          },
          "metadata": {},
          "execution_count": 14
        }
      ]
    },
    {
      "cell_type": "markdown",
      "source": [
        "\n",
        "\n",
        "---\n",
        "\n",
        "## Task 1\n",
        "\n",
        "---\n",
        "\n",
        "* Create functions:\n",
        "  - Circumference\n",
        "  - Area of a circle"
      ],
      "metadata": {
        "id": "Bao4G7aC8TBy"
      }
    },
    {
      "cell_type": "code",
      "source": [
        "# Import the math library and define the circumference functions as circumference(r)\n",
        "\n",
        "import math\n",
        "\n",
        "def circumference(r):\n",
        "  c = math.tau*r\n",
        "  return c"
      ],
      "metadata": {
        "id": "VKTWM3qG8d4a"
      },
      "execution_count": null,
      "outputs": []
    },
    {
      "cell_type": "code",
      "source": [
        "# Find the circumference for radius 14 using circumference(14)\n",
        "\n",
        "circumference(14)"
      ],
      "metadata": {
        "colab": {
          "base_uri": "https://localhost:8080/"
        },
        "id": "lDumADF489S1",
        "outputId": "faf4e097-8b58-466b-b613-ce30f904c09c"
      },
      "execution_count": null,
      "outputs": [
        {
          "output_type": "execute_result",
          "data": {
            "text/plain": [
              "87.96459430051421"
            ]
          },
          "metadata": {},
          "execution_count": 18
        }
      ]
    },
    {
      "cell_type": "code",
      "source": [
        "# Import the math library and define the area of a circle functions as area(r)\n",
        "\n",
        "import math\n",
        "\n",
        "def area(r):\n",
        "  a = math.pi*(r**2)\n",
        "  return a"
      ],
      "metadata": {
        "id": "tZLyjKES9JNJ"
      },
      "execution_count": null,
      "outputs": []
    },
    {
      "cell_type": "code",
      "source": [
        "# Find the area of circle for radius 14 using area(14)\n",
        "\n",
        "area(14)"
      ],
      "metadata": {
        "colab": {
          "base_uri": "https://localhost:8080/"
        },
        "id": "TKq7HV3o9XkO",
        "outputId": "11843234-0d35-4e69-e0dd-d73a2f7e8b02"
      },
      "execution_count": null,
      "outputs": [
        {
          "output_type": "execute_result",
          "data": {
            "text/plain": [
              "615.7521601035994"
            ]
          },
          "metadata": {},
          "execution_count": 23
        }
      ]
    }
  ]
}