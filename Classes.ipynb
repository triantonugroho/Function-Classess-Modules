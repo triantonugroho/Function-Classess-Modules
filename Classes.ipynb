{
  "nbformat": 4,
  "nbformat_minor": 0,
  "metadata": {
    "colab": {
      "name": "Classes.ipynb",
      "provenance": []
    },
    "kernelspec": {
      "name": "python3",
      "display_name": "Python 3"
    },
    "language_info": {
      "name": "python"
    }
  },
  "cells": [
    {
      "cell_type": "code",
      "execution_count": 5,
      "metadata": {
        "colab": {
          "base_uri": "https://localhost:8080/"
        },
        "id": "EveyKN-wLdhC",
        "outputId": "76a27c62-f332-4b8c-eb37-fddc2fa46d4c"
      },
      "outputs": [
        {
          "output_type": "stream",
          "name": "stdout",
          "text": [
            "Kusto\n",
            "20\n"
          ]
        }
      ],
      "source": [
        "class Person:\n",
        "\n",
        "  def __init__(self, name, age):\n",
        "    self.name = name\n",
        "    self.age = age\n",
        "\n",
        "p = Person(\"Kusto\", 20)\n",
        "\n",
        "print(p.name)\n",
        "print(p.age)"
      ]
    },
    {
      "cell_type": "markdown",
      "source": [
        "# Object Method"
      ],
      "metadata": {
        "id": "Fcoezf0fWyqW"
      }
    },
    {
      "cell_type": "code",
      "source": [
        "class Calculator:\n",
        "  \n",
        "  def __init__(self, num1, num2):\n",
        "    self.num1 = num1\n",
        "    self.num2 = num2\n",
        "\n",
        "  def Multiple(self):\n",
        "    self.mul = self.num1 * self.num2\n",
        "    return self.mul\n",
        "\n",
        "cal = Calculator(\"num1\", \"num2\")\n",
        "cal = Calculator(6, 5)\n",
        "cal.Multiple()"
      ],
      "metadata": {
        "colab": {
          "base_uri": "https://localhost:8080/"
        },
        "id": "1Z76lkx3L1HP",
        "outputId": "321b9324-cb8a-4164-97d2-a2d9e47bf91a"
      },
      "execution_count": 9,
      "outputs": [
        {
          "output_type": "execute_result",
          "data": {
            "text/plain": [
              "30"
            ]
          },
          "metadata": {},
          "execution_count": 9
        }
      ]
    },
    {
      "cell_type": "markdown",
      "source": [
        "# Class Method"
      ],
      "metadata": {
        "id": "r1LgBuKqWvG2"
      }
    },
    {
      "cell_type": "code",
      "source": [
        "class Calculator:\n",
        "  \n",
        "  def __init__(self, num1, num2):\n",
        "    self.num1 = num1\n",
        "    self.num2 = num2\n",
        "\n",
        "  @classmethod\n",
        "  def Multiple_1(cls, num1, num2):\n",
        "    cls.mul_num = num1 * num2\n",
        "    return cls.mul_num\n",
        "\n",
        "cal = Calculator(\"num1\", \"num2\")\n",
        "cal.Multiple_1(5, 9)"
      ],
      "metadata": {
        "colab": {
          "base_uri": "https://localhost:8080/"
        },
        "id": "AsEKXWBNSL5i",
        "outputId": "92d53163-0fb7-4c5e-e454-f97f0616b240"
      },
      "execution_count": 11,
      "outputs": [
        {
          "output_type": "execute_result",
          "data": {
            "text/plain": [
              "45"
            ]
          },
          "metadata": {},
          "execution_count": 11
        }
      ]
    },
    {
      "cell_type": "markdown",
      "source": [
        "# Static Method\n"
      ],
      "metadata": {
        "id": "FKD44j9YWrob"
      }
    },
    {
      "cell_type": "code",
      "source": [
        "class Calculator:\n",
        "  \n",
        "  def __init__(self, num1, num2):\n",
        "    self.num1 = num1\n",
        "    self.num2 = num2\n",
        "\n",
        "  @staticmethod\n",
        "  def Multiple_2(num1, num2):\n",
        "    mul = num1 * num2\n",
        "    return mul\n",
        "\n",
        "cal = Calculator.Multiple_2(6, 7)\n",
        "print(cal)"
      ],
      "metadata": {
        "colab": {
          "base_uri": "https://localhost:8080/"
        },
        "id": "Voq2YHX5UPCD",
        "outputId": "e00d0859-17f3-4a32-f1db-2f73f238e3e7"
      },
      "execution_count": 12,
      "outputs": [
        {
          "output_type": "stream",
          "name": "stdout",
          "text": [
            "42\n"
          ]
        }
      ]
    },
    {
      "cell_type": "code",
      "source": [
        ""
      ],
      "metadata": {
        "id": "nLluKZx8VY9W"
      },
      "execution_count": null,
      "outputs": []
    }
  ]
}