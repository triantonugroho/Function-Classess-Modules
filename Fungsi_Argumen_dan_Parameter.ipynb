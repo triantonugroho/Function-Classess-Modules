{
  "nbformat": 4,
  "nbformat_minor": 0,
  "metadata": {
    "colab": {
      "name": "Fungsi-Argumen dan Parameter.ipynb",
      "provenance": [],
      "collapsed_sections": []
    },
    "kernelspec": {
      "name": "python3",
      "display_name": "Python 3"
    },
    "language_info": {
      "name": "python"
    }
  },
  "cells": [
    {
      "cell_type": "markdown",
      "source": [
        "POSITIONAL ARGUMENT"
      ],
      "metadata": {
        "id": "S-E3Gp76QcEA"
      }
    },
    {
      "cell_type": "code",
      "source": [
        "def jadwal(tgl, bln, thn):\n",
        "  berangkat = \"jadwal keberangkatan adalah tgl {} bln {} thn {}\".format(tgl, bln, thn)\n",
        "  return berangkat"
      ],
      "metadata": {
        "id": "lTx7d15uQdHG"
      },
      "execution_count": 1,
      "outputs": []
    },
    {
      "cell_type": "code",
      "source": [
        "jadwal(2, 'feb', 2022)"
      ],
      "metadata": {
        "colab": {
          "base_uri": "https://localhost:8080/",
          "height": 35
        },
        "id": "If91_3m5RpvW",
        "outputId": "217c31e0-62f1-4030-e74d-ca523cec0492"
      },
      "execution_count": 2,
      "outputs": [
        {
          "output_type": "execute_result",
          "data": {
            "text/plain": [
              "'jadwal keberangkatan adalah tgl 2 bln feb thn 2022'"
            ],
            "application/vnd.google.colaboratory.intrinsic+json": {
              "type": "string"
            }
          },
          "metadata": {},
          "execution_count": 2
        }
      ]
    },
    {
      "cell_type": "code",
      "source": [
        "jadwal(*(2,'peb',2022))"
      ],
      "metadata": {
        "colab": {
          "base_uri": "https://localhost:8080/",
          "height": 35
        },
        "id": "Jv_tnxfbRyxp",
        "outputId": "57536a2c-c02f-45ef-818c-47ec8959c316"
      },
      "execution_count": 5,
      "outputs": [
        {
          "output_type": "execute_result",
          "data": {
            "text/plain": [
              "'jadwal keberangkatan adalah tgl 2 bln peb thn 2022'"
            ],
            "application/vnd.google.colaboratory.intrinsic+json": {
              "type": "string"
            }
          },
          "metadata": {},
          "execution_count": 5
        }
      ]
    },
    {
      "cell_type": "markdown",
      "source": [
        "POSITIONAL ARGUMENT"
      ],
      "metadata": {
        "id": "wBMqr97jiQyc"
      }
    },
    {
      "cell_type": "code",
      "source": [
        "def name(first_name, last_name): #define parameters here.\n",
        "  introduction = \"Hello, My name is {} and my last name is {}\".format(first_name, last_name)\n",
        "  return introduction"
      ],
      "metadata": {
        "id": "bBnKIitKVLvN"
      },
      "execution_count": 34,
      "outputs": []
    },
    {
      "cell_type": "code",
      "source": [
        "name(*(\"alan\", \"smith\")) #turn the argument list that we pass into a function that we create with these args into a list and it can be iterated"
      ],
      "metadata": {
        "colab": {
          "base_uri": "https://localhost:8080/",
          "height": 35
        },
        "id": "9CWu-nBtXXi4",
        "outputId": "92228473-cfbd-4981-bc4a-386595573ead"
      },
      "execution_count": 35,
      "outputs": [
        {
          "output_type": "execute_result",
          "data": {
            "text/plain": [
              "'Hello, My name is alan and my last name is smith'"
            ],
            "application/vnd.google.colaboratory.intrinsic+json": {
              "type": "string"
            }
          },
          "metadata": {},
          "execution_count": 35
        }
      ]
    },
    {
      "cell_type": "code",
      "source": [
        "name(first_name=\"alan\", last_name=\"smith\") #input by keyword"
      ],
      "metadata": {
        "colab": {
          "base_uri": "https://localhost:8080/",
          "height": 35
        },
        "id": "jo8loKaXald-",
        "outputId": "6e26bd22-532b-481d-8002-ee52c757a557"
      },
      "execution_count": 37,
      "outputs": [
        {
          "output_type": "execute_result",
          "data": {
            "text/plain": [
              "'Hello, My name is alan and my last name is smith'"
            ],
            "application/vnd.google.colaboratory.intrinsic+json": {
              "type": "string"
            }
          },
          "metadata": {},
          "execution_count": 37
        }
      ]
    },
    {
      "cell_type": "markdown",
      "source": [
        "VAR-POSITIONAL AND VAR-KEYWORD"
      ],
      "metadata": {
        "id": "9iyg0TADal9t"
      }
    },
    {
      "cell_type": "code",
      "source": [
        "def info(*arg, **kunci_dict):\n",
        "  for i in arg:\n",
        "    print(\"area of {}\".format(i))\n",
        "  for length, width in kunci_dict.items():\n",
        "    print(\"which consists of the value {} : {}\".format(length, width))"
      ],
      "metadata": {
        "id": "-zj8wAZYauTt"
      },
      "execution_count": 28,
      "outputs": []
    },
    {
      "cell_type": "code",
      "source": [
        "info(\"rectangle\", length=\"4\", width=\"5\")"
      ],
      "metadata": {
        "colab": {
          "base_uri": "https://localhost:8080/"
        },
        "id": "lzk_Zu3XeGAU",
        "outputId": "2acf05fb-f582-4d78-ed73-af0be8b4eca3"
      },
      "execution_count": 29,
      "outputs": [
        {
          "output_type": "stream",
          "name": "stdout",
          "text": [
            "area of rectangle\n",
            "which consists of the value length : 4\n",
            "which consists of the value width : 5\n"
          ]
        }
      ]
    },
    {
      "cell_type": "markdown",
      "source": [
        "LAMBDA"
      ],
      "metadata": {
        "id": "gNGO_pwEm-Sq"
      }
    },
    {
      "cell_type": "code",
      "source": [
        "Exponent = lambda x,y: x**2 + y**2"
      ],
      "metadata": {
        "id": "qq8J05JLm-qK"
      },
      "execution_count": 38,
      "outputs": []
    },
    {
      "cell_type": "code",
      "source": [
        "Exponent(3,5)"
      ],
      "metadata": {
        "colab": {
          "base_uri": "https://localhost:8080/"
        },
        "id": "NH1PsoARqJWS",
        "outputId": "2e010e1d-e605-4537-fbeb-68a1307ec3e5"
      },
      "execution_count": 39,
      "outputs": [
        {
          "output_type": "execute_result",
          "data": {
            "text/plain": [
              "34"
            ]
          },
          "metadata": {},
          "execution_count": 39
        }
      ]
    }
  ]
}