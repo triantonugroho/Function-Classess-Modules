{
  "nbformat": 4,
  "nbformat_minor": 0,
  "metadata": {
    "colab": {
      "name": "P15-Selasa-(04-05-2022)-pydoc.ipynb",
      "provenance": []
    },
    "kernelspec": {
      "name": "python3",
      "display_name": "Python 3"
    },
    "language_info": {
      "name": "python"
    }
  },
  "cells": [
    {
      "cell_type": "markdown",
      "source": [
        "---\n",
        "\n",
        "## **pydoc**\n",
        "\n",
        "---\n",
        "\n",
        "### The pydoc module automatically generates documentation from Python modules. The documentation can be presented as pages of text on the console, served to a web browser, or saved to HTML files. This can be done from the Anaconda Prompt."
      ],
      "metadata": {
        "id": "neOlTyrJtLhE"
      }
    },
    {
      "cell_type": "markdown",
      "source": [
        "\n",
        "\n",
        "---\n",
        "\n",
        "### This code below is an example to generates documentation of the pass module.\n",
        "\n",
        "---\n",
        "\n"
      ],
      "metadata": {
        "id": "LnASrU6HZXrO"
      }
    },
    {
      "cell_type": "code",
      "execution_count": null,
      "metadata": {
        "id": "mklt8amHs1-Z"
      },
      "outputs": [],
      "source": [
        "c:\\users\\admin>python -m pydoc pass\n",
        "\n",
        "c:\\users\\admin>python /?"
      ]
    }
  ]
}