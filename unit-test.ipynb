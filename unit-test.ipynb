{
  "nbformat": 4,
  "nbformat_minor": 0,
  "metadata": {
    "colab": {
      "name": "Salinan Unit Test.ipynb",
      "provenance": [],
      "collapsed_sections": []
    },
    "kernelspec": {
      "name": "python3",
      "display_name": "Python 3"
    },
    "language_info": {
      "name": "python"
    }
  },
  "cells": [
    {
      "cell_type": "markdown",
      "source": [
        "Tests written using the unittest module can help you find bugs in your programs, and prevent regressions from occurring as you change your code over time. Teams adhering to test-driven development may find unittest useful to ensure all authored code has a corresponding set of tests."
      ],
      "metadata": {
        "id": "HNPt8sh1CCSA"
      }
    },
    {
      "cell_type": "markdown",
      "source": [
        "test case\n",
        "\n",
        "* A test case is the individual unit of testing. It checks for a specific response to a particular set of inputs. unittest provides a base class, TestCase, which may be used to create new test cases."
      ],
      "metadata": {
        "id": "wF6XmtGFI3p1"
      }
    },
    {
      "cell_type": "markdown",
      "source": [
        "**Example**"
      ],
      "metadata": {
        "id": "uRbE19f1IjaF"
      }
    },
    {
      "cell_type": "code",
      "source": [
        "import unittest\n",
        "\n",
        "a = 3\n",
        "b = 5\n",
        "\n",
        "class Test_53a_Unitest(unittest.TestCase):\n",
        "\n",
        "  def test_equal(self):\n",
        "    self.asserEqual(3+4, a+b)\n",
        "\n",
        "  def test_greather(self):\n",
        "    self.assertTrue(a+b > 3+4)\n",
        "\n",
        "\n",
        "if __name__ == '__main__':\n",
        "  unittest.main()"
      ],
      "metadata": {
        "id": "dRDO_dNEIcQS"
      },
      "execution_count": null,
      "outputs": []
    },
    {
      "cell_type": "markdown",
      "source": [
        "**Example**"
      ],
      "metadata": {
        "id": "r1PINGwRIewq"
      }
    },
    {
      "cell_type": "code",
      "source": [
        "import unittest\n",
        "\n",
        "class SimpleTest(unittest.TestCase):\n",
        "\n",
        "\t# Returns True or False.\n",
        "\tdef test(self):\t\t\n",
        "\t\tself.assertTrue(True)\n",
        "\n",
        "if __name__ == '__main__':\n",
        "\tunittest.main()"
      ],
      "metadata": {
        "id": "5PMhXa8WIf68"
      },
      "execution_count": null,
      "outputs": []
    },
    {
      "cell_type": "markdown",
      "source": [
        "**Example**"
      ],
      "metadata": {
        "id": "iwUB4IzvNj8W"
      }
    },
    {
      "cell_type": "code",
      "source": [
        "import unittest\n",
        "\n",
        "def add_club_football(club_list):\n",
        "    if len(club_list) > 10:\n",
        "        raise ValueError(\"A maximum of 10 club can be added to the list\")\n",
        "    return {\"list_a\": club_list}\n",
        "\n",
        "\n",
        "class TestAddClubFootball(unittest.TestCase):\n",
        "    def test_add_club_football_success(self):\n",
        "        actual = add_club_football(club_list=[\"Real Madrid\", \"Barcelona\", \"PSG\"])\n",
        "        expected = {\"list_a\": [\"Real Madrid\", \"Barcelona\", \"PSG\"]}\n",
        "        self.assertEqual(actual, expected)"
      ],
      "metadata": {
        "id": "VpEVld-fJu2u"
      },
      "execution_count": null,
      "outputs": []
    },
    {
      "cell_type": "code",
      "source": [
        "!python -m unittest test_add_club_fotball.py"
      ],
      "metadata": {
        "colab": {
          "base_uri": "https://localhost:8080/"
        },
        "id": "1wfLh7sGPEgY",
        "outputId": "494387b0-89a5-4ac8-dc5a-0d462e0d8353"
      },
      "execution_count": null,
      "outputs": [
        {
          "output_type": "stream",
          "name": "stdout",
          "text": [
            "E\n",
            "======================================================================\n",
            "ERROR: test_add_club_fotball (unittest.loader._FailedTest)\n",
            "----------------------------------------------------------------------\n",
            "ImportError: Failed to import test module: test_add_club_fotball\n",
            "Traceback (most recent call last):\n",
            "  File \"/usr/lib/python3.7/unittest/loader.py\", line 154, in loadTestsFromName\n",
            "    module = __import__(module_name)\n",
            "ModuleNotFoundError: No module named 'test_add_club_fotball'\n",
            "\n",
            "\n",
            "----------------------------------------------------------------------\n",
            "Ran 1 test in 0.000s\n",
            "\n",
            "FAILED (errors=1)\n"
          ]
        }
      ]
    }
  ]
}