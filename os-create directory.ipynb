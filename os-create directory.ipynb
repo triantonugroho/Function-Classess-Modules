{
  "nbformat": 4,
  "nbformat_minor": 0,
  "metadata": {
    "colab": {
      "name": "Salinan os.ipynb",
      "provenance": [],
      "collapsed_sections": []
    },
    "kernelspec": {
      "name": "python3",
      "display_name": "Python 3"
    },
    "language_info": {
      "name": "python"
    }
  },
  "cells": [
    {
      "cell_type": "markdown",
      "source": [
        "The OS module in Python provides functions for interacting with the operating system. OS comes under Python’s standard utility modules. This module provides a portable way of using operating system-dependent functionality."
      ],
      "metadata": {
        "id": "uQt77JysdluU"
      }
    },
    {
      "cell_type": "markdown",
      "source": [
        "**Exampel**"
      ],
      "metadata": {
        "id": "aSsWTPnQdnGA"
      }
    },
    {
      "cell_type": "code",
      "execution_count": null,
      "metadata": {
        "id": "Sib8KAFG30DR"
      },
      "outputs": [],
      "source": [
        "import os"
      ]
    },
    {
      "cell_type": "code",
      "source": [
        "dirName = input(\"Enter the name of the folder you want to create\")\n",
        "os.mkdir(dirName)\n",
        "print(\"Directory created\")"
      ],
      "metadata": {
        "colab": {
          "base_uri": "https://localhost:8080/"
        },
        "id": "3Mp9rlxG37JJ",
        "outputId": "96691738-cbaa-4b51-812a-ab536aa7a7a2"
      },
      "execution_count": null,
      "outputs": [
        {
          "output_type": "stream",
          "name": "stdout",
          "text": [
            "Enter the name of the folder you want to createData Science\n",
            "Directory created\n"
          ]
        }
      ]
    },
    {
      "cell_type": "code",
      "source": [
        "dirName = input(\"Enter the name of the folder you want to create\")\n",
        "os.mkdir(dirName)\n",
        "print(\"Directory created\")"
      ],
      "metadata": {
        "id": "HMpOZA6B4Nka",
        "outputId": "e5c8f0bc-5bab-42a6-d6e5-c6fee8321eb1",
        "colab": {
          "base_uri": "https://localhost:8080/"
        }
      },
      "execution_count": null,
      "outputs": [
        {
          "output_type": "stream",
          "name": "stdout",
          "text": [
            "Enter the name of the folder you want to createMalka\n",
            "Directory created\n"
          ]
        }
      ]
    }
  ]
}