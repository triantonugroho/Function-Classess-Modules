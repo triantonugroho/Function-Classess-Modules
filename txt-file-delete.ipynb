{
  "nbformat": 4,
  "nbformat_minor": 0,
  "metadata": {
    "colab": {
      "name": "Salinan txt file - delete.ipynb",
      "provenance": [],
      "collapsed_sections": []
    },
    "kernelspec": {
      "name": "python3",
      "display_name": "Python 3"
    },
    "language_info": {
      "name": "python"
    }
  },
  "cells": [
    {
      "cell_type": "markdown",
      "source": [
        "To delete a file, you must import the OS module, and run its os.remove() function"
      ],
      "metadata": {
        "id": "JSb0unHrFeFm"
      }
    },
    {
      "cell_type": "markdown",
      "source": [
        "**Example**"
      ],
      "metadata": {
        "id": "uIoyQ3yCHEIX"
      }
    },
    {
      "cell_type": "markdown",
      "source": [
        "Remove the file \"log_old.txt\":"
      ],
      "metadata": {
        "id": "1H3k4V3ZHGKM"
      }
    },
    {
      "cell_type": "code",
      "execution_count": null,
      "metadata": {
        "id": "YyqLTkIMA3xW"
      },
      "outputs": [],
      "source": [
        "import os"
      ]
    },
    {
      "cell_type": "markdown",
      "source": [
        "Check if file exists, then delete it:"
      ],
      "metadata": {
        "id": "nbn5ahaYHcN-"
      }
    },
    {
      "cell_type": "code",
      "source": [
        "if os.path.isfile('log_old.txt'):\n",
        "  os.remove('log_old.txt')\n",
        "  print(\"the log_old file has been remove\")\n",
        "else:\n",
        "  print('there was no log_old file to remove')"
      ],
      "metadata": {
        "colab": {
          "base_uri": "https://localhost:8080/"
        },
        "id": "xYHtJtMVA_Iv",
        "outputId": "7f51c1a9-5226-4a0f-d633-01e2f9470cac"
      },
      "execution_count": null,
      "outputs": [
        {
          "output_type": "stream",
          "name": "stdout",
          "text": [
            "there was no log_old file to remove\n"
          ]
        }
      ]
    },
    {
      "cell_type": "markdown",
      "source": [
        "**Example**"
      ],
      "metadata": {
        "id": "At01Si0hHN1m"
      }
    },
    {
      "cell_type": "markdown",
      "source": [
        "Remove the file \"bio.txt\":"
      ],
      "metadata": {
        "id": "wA9dXjRdHPi2"
      }
    },
    {
      "cell_type": "code",
      "source": [
        "if os.path.isfile('bio.txt'):\n",
        "  os.remove('bio.txt')\n",
        "  print(\"the bio file has been remove\")\n",
        "else:\n",
        "  print('there was no bio file to remove')"
      ],
      "metadata": {
        "colab": {
          "base_uri": "https://localhost:8080/"
        },
        "id": "ablUuT5pCaGm",
        "outputId": "86760363-61b8-4f16-b817-fd8a449dcd09"
      },
      "execution_count": null,
      "outputs": [
        {
          "output_type": "stream",
          "name": "stdout",
          "text": [
            "the bio file has been remove\n"
          ]
        }
      ]
    }
  ]
}