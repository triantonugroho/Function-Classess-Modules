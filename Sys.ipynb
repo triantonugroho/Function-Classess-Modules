{
  "nbformat": 4,
  "nbformat_minor": 0,
  "metadata": {
    "colab": {
      "name": "Sys.ipynb",
      "provenance": [],
      "collapsed_sections": []
    },
    "kernelspec": {
      "name": "python3",
      "display_name": "Python 3"
    },
    "language_info": {
      "name": "python"
    }
  },
  "cells": [
    {
      "cell_type": "code",
      "source": [
        "# import module sys to get the type of exception \n",
        "import sys\n",
        "\n",
        "list = ['a', 0, 8]\n",
        "for each in list:\n",
        "    try:\n",
        "        print(\"The entry is:\", each)\n",
        "        r = 1/int(each)\n",
        "        break\n",
        "    except:\n",
        "        print(\"Opps!\", sys.exc_info()[0], \" Occured.\")\n",
        "        print(\"Next entry.\")\n",
        "        print()\n",
        "print(\"The reciprocal of \", each, \" is\", r)"
      ],
      "metadata": {
        "colab": {
          "base_uri": "https://localhost:8080/"
        },
        "id": "V305h9VsAys5",
        "outputId": "0ff633f2-2ade-4a7a-bc96-4ccb91d5aebc"
      },
      "execution_count": 15,
      "outputs": [
        {
          "output_type": "stream",
          "name": "stdout",
          "text": [
            "The entry is: a\n",
            "Opps! <class 'ValueError'>  Occured.\n",
            "Next entry.\n",
            "\n",
            "The entry is: 0\n",
            "Opps! <class 'ZeroDivisionError'>  Occured.\n",
            "Next entry.\n",
            "\n",
            "The entry is: 8\n",
            "The reciprocal of  8  is 0.125\n"
          ]
        }
      ]
    }
  ]
}