{
  "nbformat": 4,
  "nbformat_minor": 0,
  "metadata": {
    "colab": {
      "name": "Function.ipynb",
      "provenance": []
    },
    "kernelspec": {
      "name": "python3",
      "display_name": "Python 3"
    },
    "language_info": {
      "name": "python"
    }
  },
  "cells": [
    {
      "cell_type": "markdown",
      "source": [
        "**Function (def)**\n",
        "\n",
        "- function is a group of related statements that performs a specific task\n",
        "- a function is defined with the def keyword followed by the name of the function and its parameters in brackets()\n",
        "- the code block in each function starts with a colon (:) and is indented\n",
        "- the function stops when there is a return [expression] statement that returns [expression] to the caller\n",
        "\n"
      ],
      "metadata": {
        "id": "34DQkzUbcPwx"
      }
    },
    {
      "cell_type": "code",
      "execution_count": null,
      "metadata": {
        "id": "iRyl83GDcEgE"
      },
      "outputs": [],
      "source": [
        "def square(x):  # x is a parameter (the input the function accepts)\n",
        "  return x**2"
      ]
    },
    {
      "cell_type": "code",
      "source": [
        "square(3) # 3 is a argument (the thing we enter when calling the function)"
      ],
      "metadata": {
        "colab": {
          "base_uri": "https://localhost:8080/"
        },
        "id": "4s1VHEYJgfzy",
        "outputId": "2fd2cde3-eb5f-4916-bde1-00344272ef25"
      },
      "execution_count": null,
      "outputs": [
        {
          "output_type": "execute_result",
          "data": {
            "text/plain": [
              "9"
            ]
          },
          "metadata": {},
          "execution_count": 2
        }
      ]
    },
    {
      "cell_type": "markdown",
      "source": [
        "optionally, you can add a docstring (string documentation describing the context of the function)"
      ],
      "metadata": {
        "id": "h6cc9ACDoebo"
      }
    },
    {
      "cell_type": "code",
      "source": [
        "def cube(x):\n",
        "  cubic = x**3\n",
        "  return cubic"
      ],
      "metadata": {
        "id": "GdAVsvzcodvn"
      },
      "execution_count": null,
      "outputs": []
    },
    {
      "cell_type": "code",
      "source": [
        "cube(2)"
      ],
      "metadata": {
        "colab": {
          "base_uri": "https://localhost:8080/"
        },
        "id": "OsKlNOvoo2pt",
        "outputId": "486bd9b7-c1a3-4d30-ed4e-27bd1cdd08b6"
      },
      "execution_count": null,
      "outputs": [
        {
          "output_type": "execute_result",
          "data": {
            "text/plain": [
              "8"
            ]
          },
          "metadata": {},
          "execution_count": 4
        }
      ]
    },
    {
      "cell_type": "markdown",
      "source": [
        "you can also make the function return no output with return none"
      ],
      "metadata": {
        "id": "2h4oRyNopDh_"
      }
    },
    {
      "cell_type": "code",
      "source": [
        "def squareroot(x):\n",
        "  output = x**0.5\n",
        "  return"
      ],
      "metadata": {
        "id": "Q8LxDBLwpLR2"
      },
      "execution_count": null,
      "outputs": []
    },
    {
      "cell_type": "code",
      "source": [
        "squareroot(8)"
      ],
      "metadata": {
        "id": "lFMtUTxdpdzU"
      },
      "execution_count": null,
      "outputs": []
    },
    {
      "cell_type": "markdown",
      "source": [
        "by default, python will position each parameter according to the order in which it was registered at the time it was defined and must be called in that order"
      ],
      "metadata": {
        "id": "X8biyIigoRXr"
      }
    },
    {
      "cell_type": "code",
      "source": [
        "def div (x,y):\n",
        "  division = x / y\n",
        "  return division"
      ],
      "metadata": {
        "id": "BhvoBRMehHf6"
      },
      "execution_count": null,
      "outputs": []
    },
    {
      "cell_type": "code",
      "source": [
        "div(10,5)"
      ],
      "metadata": {
        "colab": {
          "base_uri": "https://localhost:8080/"
        },
        "id": "olHqqLO7hynU",
        "outputId": "1d51c67e-cea2-4cfe-f802-2a411f7c47e5"
      },
      "execution_count": null,
      "outputs": [
        {
          "output_type": "execute_result",
          "data": {
            "text/plain": [
              "2.0"
            ]
          },
          "metadata": {},
          "execution_count": 8
        }
      ]
    },
    {
      "cell_type": "code",
      "source": [
        "div(y=10, x=5)"
      ],
      "metadata": {
        "colab": {
          "base_uri": "https://localhost:8080/"
        },
        "id": "w5NNU9MWKP6i",
        "outputId": "024f8c24-832f-475c-c9ac-2cf6da4a4e3c"
      },
      "execution_count": null,
      "outputs": [
        {
          "output_type": "execute_result",
          "data": {
            "text/plain": [
              "0.5"
            ]
          },
          "metadata": {},
          "execution_count": 9
        }
      ]
    },
    {
      "cell_type": "markdown",
      "source": [
        "the return [expression] statement will make program execution exit the current function"
      ],
      "metadata": {
        "id": "q2ufGoGdn0HV"
      }
    },
    {
      "cell_type": "code",
      "source": [
        "def minus(x,y):\n",
        "  subtraction = x - y\n",
        "  print('{} - {} = {}'.format(x,y,subtraction))\n",
        "  return subtraction"
      ],
      "metadata": {
        "id": "fWkN390HiLSP"
      },
      "execution_count": null,
      "outputs": []
    },
    {
      "cell_type": "code",
      "source": [
        "minus(2,3)"
      ],
      "metadata": {
        "colab": {
          "base_uri": "https://localhost:8080/"
        },
        "id": "wa0wWkGCrFUk",
        "outputId": "1ebb989f-7810-42f4-8eb4-f8113a2dd768"
      },
      "execution_count": null,
      "outputs": [
        {
          "output_type": "stream",
          "name": "stdout",
          "text": [
            "2 - 3 = -1\n"
          ]
        },
        {
          "output_type": "execute_result",
          "data": {
            "text/plain": [
              "-1"
            ]
          },
          "metadata": {},
          "execution_count": 11
        }
      ]
    },
    {
      "cell_type": "code",
      "source": [
        "output = minus(2,3)\n",
        "print('the result of subtraction is {}'.format(output))"
      ],
      "metadata": {
        "colab": {
          "base_uri": "https://localhost:8080/"
        },
        "id": "HS5fNA1crI7R",
        "outputId": "db81c55b-1370-4ad5-a859-75f9ef9be3ad"
      },
      "execution_count": null,
      "outputs": [
        {
          "output_type": "stream",
          "name": "stdout",
          "text": [
            "2 - 3 = -1\n",
            "the result of subtraction is -1\n"
          ]
        }
      ]
    },
    {
      "cell_type": "markdown",
      "source": [
        "all parameters (arguments) in python are 'passed by reference'. This means that when we change a variable, the data that refers to it will also change, both inside the function and outside the calling function. unless we do an assignment operation that will change the reference parameter"
      ],
      "metadata": {
        "id": "YA5w20NwrjHs"
      }
    },
    {
      "cell_type": "markdown",
      "source": [
        "something that is in a def function is local and can only be operated in a def function"
      ],
      "metadata": {
        "id": "Qkwdhn3QCoGN"
      }
    },
    {
      "cell_type": "code",
      "source": [
        "def percent(percentage):\n",
        "  percentage = 100*percentage\n",
        "  return print(percentage,'%')"
      ],
      "metadata": {
        "id": "oW444jYA-Muo"
      },
      "execution_count": null,
      "outputs": []
    },
    {
      "cell_type": "code",
      "source": [
        "percentage"
      ],
      "metadata": {
        "colab": {
          "base_uri": "https://localhost:8080/",
          "height": 165
        },
        "id": "eLG-bDdK-qBG",
        "outputId": "253260ce-8c45-439c-9ba4-72688222ff53"
      },
      "execution_count": null,
      "outputs": [
        {
          "output_type": "error",
          "ename": "NameError",
          "evalue": "ignored",
          "traceback": [
            "\u001b[0;31m---------------------------------------------------------------------------\u001b[0m",
            "\u001b[0;31mNameError\u001b[0m                                 Traceback (most recent call last)",
            "\u001b[0;32m<ipython-input-14-5dc9173ce437>\u001b[0m in \u001b[0;36m<module>\u001b[0;34m()\u001b[0m\n\u001b[0;32m----> 1\u001b[0;31m \u001b[0mpercentage\u001b[0m\u001b[0;34m\u001b[0m\u001b[0;34m\u001b[0m\u001b[0m\n\u001b[0m",
            "\u001b[0;31mNameError\u001b[0m: name 'percentage' is not defined"
          ]
        }
      ]
    },
    {
      "cell_type": "code",
      "source": [
        "percentage = 0.5\n",
        "percent(percentage)"
      ],
      "metadata": {
        "colab": {
          "base_uri": "https://localhost:8080/"
        },
        "id": "tYJG9adM_mXf",
        "outputId": "82159a53-73f2-4225-cd02-33c175ab62f9"
      },
      "execution_count": null,
      "outputs": [
        {
          "output_type": "stream",
          "name": "stdout",
          "text": [
            "50.0 %\n"
          ]
        }
      ]
    },
    {
      "cell_type": "code",
      "source": [
        "x = 0.2\n",
        "percent(x)"
      ],
      "metadata": {
        "colab": {
          "base_uri": "https://localhost:8080/"
        },
        "id": "skSyPNtaB28g",
        "outputId": "e94b15c2-5bde-4dff-ec5c-412500cccd14"
      },
      "execution_count": null,
      "outputs": [
        {
          "output_type": "stream",
          "name": "stdout",
          "text": [
            "20.0 %\n"
          ]
        }
      ]
    }
  ]
}