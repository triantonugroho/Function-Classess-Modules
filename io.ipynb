{
  "nbformat": 4,
  "nbformat_minor": 0,
  "metadata": {
    "colab": {
      "name": "P15-Selasa-(04-05-2022)-io.ipynb",
      "provenance": []
    },
    "kernelspec": {
      "name": "python3",
      "display_name": "Python 3"
    },
    "language_info": {
      "name": "python"
    }
  },
  "cells": [
    {
      "cell_type": "markdown",
      "source": [
        "---\n",
        "\n",
        "## **io**\n",
        "\n",
        "---\n",
        "\n",
        "### The io module provides Python’s main facilities for dealing with various types of I/O. There are three main types of I/O: text I/O, binary I/O and raw I/O. These are generic categories, and various backing stores can be used for each of them. A concrete object belonging to any of these categories is called a file object. Other common terms are stream and file-like object.\n",
        "\n",
        "### Text I/O expects and produces str objects. This means that whenever the backing store is natively made of bytes (such as in the case of a file), encoding and decoding of data is made transparently as well as optional translation of platform-specific newline characters."
      ],
      "metadata": {
        "id": "Acg0SXUn05XW"
      }
    },
    {
      "cell_type": "markdown",
      "source": [
        "\n",
        "\n",
        "---\n",
        "\n",
        "## Write txt file\n",
        "\n",
        "---\n",
        "\n"
      ],
      "metadata": {
        "id": "VBRYKrugsc1a"
      }
    },
    {
      "cell_type": "code",
      "execution_count": 11,
      "metadata": {
        "id": "-ACd4YVS0yYA"
      },
      "outputs": [],
      "source": [
        "# Import library io (input output) to be able to input/write in a new txt file\n",
        "\n",
        "import io"
      ]
    },
    {
      "cell_type": "code",
      "source": [
        "# Wwrite txt in python without creating in notepad using with __ as __\n",
        "\n",
        "with open('log.txt', 'w') as writeFile:\n",
        "  toLog = input(\"What do you want to write to the log? \")\n",
        "  writeFile.write(toLog)\n",
        "\n",
        "# w for write"
      ],
      "metadata": {
        "colab": {
          "base_uri": "https://localhost:8080/"
        },
        "id": "Sw5NKdFKvUOb",
        "outputId": "3e8c9b15-4751-4162-a95d-6cb012898794"
      },
      "execution_count": 12,
      "outputs": [
        {
          "name": "stdout",
          "output_type": "stream",
          "text": [
            "What do you want to write to the log? Data Scientist\n"
          ]
        }
      ]
    },
    {
      "cell_type": "markdown",
      "source": [
        "\n",
        "\n",
        "---\n",
        "\n",
        "## Read txt file\n",
        "\n",
        "---\n",
        "\n"
      ],
      "metadata": {
        "id": "OjQLEaqJ09Y-"
      }
    },
    {
      "cell_type": "code",
      "source": [
        "# Read txt file about hobby using another format\n",
        "\n",
        "log = open('log.txt', 'r')\n",
        "logContents = log.read()\n",
        "print(\"The contents of log.txt is {}\".format(logContents))\n",
        "\n",
        "# r for read"
      ],
      "metadata": {
        "colab": {
          "base_uri": "https://localhost:8080/"
        },
        "id": "GcKf0oNqvqNJ",
        "outputId": "eb22ff3d-7699-41e2-f7da-33c87972ed7e"
      },
      "execution_count": null,
      "outputs": [
        {
          "output_type": "stream",
          "name": "stdout",
          "text": [
            "The contents of log.txt is Data Scientist\n"
          ]
        }
      ]
    },
    {
      "cell_type": "markdown",
      "source": [
        "\n",
        "\n",
        "---\n",
        "## Task 1\n",
        "\n",
        "---\n",
        "\n",
        "* Write txt file\n",
        "* The contents is about Hobby\n",
        "* Make a question that suitable\n"
      ],
      "metadata": {
        "id": "7DYq3X8e2cT3"
      }
    },
    {
      "cell_type": "code",
      "source": [
        "# Import the io library\n",
        "\n",
        "import io"
      ],
      "metadata": {
        "id": "8D0Y-nvd2man"
      },
      "execution_count": 10,
      "outputs": []
    },
    {
      "cell_type": "code",
      "source": [
        "# Write txt file about hobby using with __ as __\n",
        "\n",
        "with open('hobby.txt', 'w') as hobby:\n",
        "  x = input(\"What is your hobby? \")\n",
        "  hobby.write(x)"
      ],
      "metadata": {
        "id": "J4MoVB5a2nkl",
        "colab": {
          "base_uri": "https://localhost:8080/"
        },
        "outputId": "b1002750-ba4c-4e93-f44b-d7e4e8c26799"
      },
      "execution_count": 7,
      "outputs": [
        {
          "name": "stdout",
          "output_type": "stream",
          "text": [
            "What is your hobby? Watching movie, playing badminton, and farming\n"
          ]
        }
      ]
    },
    {
      "cell_type": "code",
      "source": [
        "# Read txt file about hobby using another format\n",
        "\n",
        "hobby = open('hobby.txt', 'r')\n",
        "hobbyContents = hobby.read()\n",
        "print(\"My hobby is {}\".format(hobbyContents))"
      ],
      "metadata": {
        "colab": {
          "base_uri": "https://localhost:8080/"
        },
        "id": "k94otHKE3XH0",
        "outputId": "83e7cbac-66dc-4214-8bd1-47c002f8f4e1"
      },
      "execution_count": 9,
      "outputs": [
        {
          "output_type": "stream",
          "name": "stdout",
          "text": [
            "My hobby is Watching movie, playing badminton, and farming\n"
          ]
        }
      ]
    }
  ]
}