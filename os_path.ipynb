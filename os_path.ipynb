{
  "nbformat": 4,
  "nbformat_minor": 0,
  "metadata": {
    "colab": {
      "name": "Salinan os.path.ipynb",
      "provenance": [],
      "collapsed_sections": []
    },
    "kernelspec": {
      "name": "python3",
      "display_name": "Python 3"
    },
    "language_info": {
      "name": "python"
    }
  },
  "cells": [
    {
      "cell_type": "markdown",
      "source": [
        "OS module in Python provides functions for interacting with the operating system. OS comes under Python’s standard utility modules. This module provides a portable way of using operating system dependent functionality. os.path module is sub module of OS module in Python used for common path name manipulation."
      ],
      "metadata": {
        "id": "lEY23hRSDt5d"
      }
    },
    {
      "cell_type": "markdown",
      "source": [
        "os.path.isfile() method in Python is used to check whether the specified path is an existing regular file or not."
      ],
      "metadata": {
        "id": "e8LMGpnaDvj7"
      }
    },
    {
      "cell_type": "code",
      "execution_count": null,
      "metadata": {
        "colab": {
          "base_uri": "https://localhost:8080/"
        },
        "id": "QGcbgkIa4htN",
        "outputId": "5ae29fb6-66d1-41c5-96b0-29aa0df6c919"
      },
      "outputs": [
        {
          "name": "stdout",
          "output_type": "stream",
          "text": [
            "What do you want to write to the log?hai\n"
          ]
        }
      ],
      "source": [
        "import os\n",
        "\n",
        "if os.path.isfile('log.txt'):\n",
        "  writeFile = open('log.txt', 'a')\n",
        "else:\n",
        "  witeFile = open('log.txt', 'w')\n",
        "\n",
        "toLog = input(\"What do you want to write to the log?\")\n",
        "writeFile.write('\\n'+toLog)\n",
        "writeFile.close()"
      ]
    },
    {
      "cell_type": "code",
      "source": [
        "import os\n",
        "\n",
        "if os.path.isfile('cita.txt'):\n",
        "  writeFile = open('cita.txt', 'a')\n",
        "else:\n",
        "  witeFile = open('cita.txt', 'w')\n",
        "\n",
        "namamu = input(\"Siapa namamu?\")\n",
        "cita = input(\"Apa cita-citamu\")\n",
        "writeFile.write(namamu)\n",
        "writeFile.write(\"\\n\"+ cita +\"\\n\"+cita +\"\\n\"+cita +\"\\n\"+cita)\n",
        "writeFile.close()"
      ],
      "metadata": {
        "colab": {
          "base_uri": "https://localhost:8080/"
        },
        "id": "MjCxKnjN-Ju8",
        "outputId": "6a6ee4dd-febe-4a2b-d232-17a15a0c2e4b"
      },
      "execution_count": 2,
      "outputs": [
        {
          "name": "stdout",
          "output_type": "stream",
          "text": [
            "Siapa namamu?Malka\n",
            "Apa cita-citamuFootball Player\n"
          ]
        }
      ]
    }
  ]
}